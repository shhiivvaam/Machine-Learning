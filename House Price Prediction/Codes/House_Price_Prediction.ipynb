{
 "cells": [
  {
   "cell_type": "code",
   "execution_count": 1,
   "metadata": {},
   "outputs": [],
   "source": [
    "import pandas as pd\n",
    "import matplotlib.pyplot as plt\n",
    "df = pd.read_csv(\"House_price_prediction.csv\")"
   ]
  },
  {
   "cell_type": "code",
   "execution_count": 2,
   "metadata": {},
   "outputs": [
    {
     "name": "stdout",
     "output_type": "stream",
     "text": [
      "     UNDER_CONSTRUCTION  RERA  BHK_NO.    SQUARE_FT  READY_TO_MOVE  RESALE  \\\n",
      "0                     0     0        2  1300.236407              1       1   \n",
      "1                     0     0        2  1275.000000              1       1   \n",
      "2                     0     0        2   933.159722              1       1   \n",
      "3                     0     1        2   929.921143              1       1   \n",
      "4                     1     0        2   999.009247              0       1   \n",
      "..                  ...   ...      ...          ...            ...     ...   \n",
      "143                   1     0        2  1050.241272              0       1   \n",
      "144                   0     1        3  1400.241838              1       1   \n",
      "145                   0     0        3  1740.139211              1       1   \n",
      "146                   0     1        2  1149.131767              1       1   \n",
      "147                   0     0        2   650.195058              1       1   \n",
      "\n",
      "     LONGITUDE   LATITUDE  TARGET(PRICE_IN_LACS)  \n",
      "0    12.969910  77.597960                   55.0  \n",
      "1    12.274538  76.644605                   51.0  \n",
      "2    12.778033  77.632191                   43.0  \n",
      "3    28.642300  77.344500                   62.5  \n",
      "4    22.592200  88.484911                   60.5  \n",
      "..         ...        ...                    ...  \n",
      "143  26.295640  73.039430                   37.0  \n",
      "144  26.900926  75.775927                   57.9  \n",
      "145  19.048979  73.078232                  180.0  \n",
      "146  24.690280  78.418890                  180.0  \n",
      "147  11.026678  76.903583                   20.0  \n",
      "\n",
      "[148 rows x 9 columns]\n"
     ]
    }
   ],
   "source": [
    "print(df)"
   ]
  },
  {
   "cell_type": "code",
   "execution_count": 3,
   "metadata": {},
   "outputs": [],
   "source": [
    "from sklearn.linear_model import LinearRegression\n",
    "reg = LinearRegression()"
   ]
  },
  {
   "cell_type": "code",
   "execution_count": 4,
   "metadata": {},
   "outputs": [
    {
     "ename": "AttributeError",
     "evalue": "'LinearRegression' object has no attribute 'coef_'",
     "output_type": "error",
     "traceback": [
      "\u001b[1;31m---------------------------------------------------------------------------\u001b[0m",
      "\u001b[1;31mAttributeError\u001b[0m                            Traceback (most recent call last)",
      "\u001b[1;32mc:\\Users\\Shivam Kumar\\OneDrive\\Desktop\\JOVAC Python & Machine Learning\\House Price Prediction\\House_Price_Prediction.ipynb Cell 4'\u001b[0m in \u001b[0;36m<cell line: 1>\u001b[1;34m()\u001b[0m\n\u001b[1;32m----> <a href='vscode-notebook-cell:/c%3A/Users/Shivam%20Kumar/OneDrive/Desktop/JOVAC%20Python%20%26%20Machine%20Learning/House%20Price%20Prediction/House_Price_Prediction.ipynb#ch0000004?line=0'>1</a>\u001b[0m \u001b[39mprint\u001b[39m(\u001b[39m\"\u001b[39m\u001b[39mCoefficient\u001b[39m\u001b[39m\"\u001b[39m,reg\u001b[39m.\u001b[39;49mcoef_)\n\u001b[0;32m      <a href='vscode-notebook-cell:/c%3A/Users/Shivam%20Kumar/OneDrive/Desktop/JOVAC%20Python%20%26%20Machine%20Learning/House%20Price%20Prediction/House_Price_Prediction.ipynb#ch0000004?line=1'>2</a>\u001b[0m \u001b[39mprint\u001b[39m(\u001b[39m\"\u001b[39m\u001b[39mTntercept\u001b[39m\u001b[39m\"\u001b[39m,reg\u001b[39m.\u001b[39mintercept_)\n",
      "\u001b[1;31mAttributeError\u001b[0m: 'LinearRegression' object has no attribute 'coef_'"
     ]
    }
   ],
   "source": [
    "print(\"Coefficient\",reg.coef_)\n",
    "print(\"Tntercept\",reg.intercept_)"
   ]
  }
 ],
 "metadata": {
  "kernelspec": {
   "display_name": "Python 3.10.5 64-bit",
   "language": "python",
   "name": "python3"
  },
  "language_info": {
   "codemirror_mode": {
    "name": "ipython",
    "version": 3
   },
   "file_extension": ".py",
   "mimetype": "text/x-python",
   "name": "python",
   "nbconvert_exporter": "python",
   "pygments_lexer": "ipython3",
   "version": "3.10.5"
  },
  "orig_nbformat": 4,
  "vscode": {
   "interpreter": {
    "hash": "a35710b63bc1545f164057578b6307b68256e29cd78dee7aaa166bac1715224f"
   }
  }
 },
 "nbformat": 4,
 "nbformat_minor": 2
}
