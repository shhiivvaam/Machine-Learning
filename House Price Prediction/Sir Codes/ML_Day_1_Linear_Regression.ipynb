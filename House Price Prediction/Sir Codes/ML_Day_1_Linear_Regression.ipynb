{
  "nbformat": 4,
  "nbformat_minor": 0,
  "metadata": {
    "colab": {
      "name": "ML Day-1 Linear Regression.ipynb",
      "provenance": []
    },
    "kernelspec": {
      "name": "python3",
      "display_name": "Python 3"
    },
    "language_info": {
      "name": "python"
    }
  },
  "cells": [
    {
      "cell_type": "code",
      "execution_count": 3,
      "metadata": {
        "id": "hw-k8m1Xi-gq"
      },
      "outputs": [],
      "source": [
        "import pandas as pd\n",
        "import matplotlib.pyplot as plt\n",
        "df=pd.read_csv('/content/House_price_predictionCopy.csv')\n",
        "\n"
      ]
    },
    {
      "cell_type": "code",
      "source": [
        "from sklearn.linear_model import LinearRegression\n",
        "#from sklearn import linear_model\n",
        "#reg=linear_model.LinearRegression()\n",
        "reg=LinearRegression()\n",
        "x=df[['SQUARE_FT']]                                          \n",
        "y=df['TARGET(PRICE_IN_LACS)']\n",
        "reg.fit(x,y)\n",
        "\n",
        "\n"
      ],
      "metadata": {
        "colab": {
          "base_uri": "https://localhost:8080/"
        },
        "id": "eUL_bzV3y_La",
        "outputId": "cd9352be-ca86-4305-df7d-8c526b48192b"
      },
      "execution_count": 4,
      "outputs": [
        {
          "output_type": "execute_result",
          "data": {
            "text/plain": [
              "LinearRegression()"
            ]
          },
          "metadata": {},
          "execution_count": 4
        }
      ]
    },
    {
      "cell_type": "code",
      "source": [
        "plt.scatter(df['SQUARE_FT'],df['TARGET(PRICE_IN_LACS)'])\n",
        "plt.show()\n",
        "print(reg.predict([[1275]]))"
      ],
      "metadata": {
        "colab": {
          "base_uri": "https://localhost:8080/",
          "height": 337
        },
        "id": "1x9xAljK2b3_",
        "outputId": "6315dfbc-bf2d-4a25-bbe2-82d669fcce55"
      },
      "execution_count": 5,
      "outputs": [
        {
          "output_type": "display_data",
          "data": {
            "text/plain": [
              "<Figure size 432x288 with 1 Axes>"
            ],
            "image/png": "[encoded data removed]"
          },
          "metadata": {
            "needs_background": "light"
          }
        },
        {
          "output_type": "stream",
          "name": "stdout",
          "text": [
            "[78.34078444]\n"
          ]
        },
        {
          "output_type": "stream",
          "name": "stderr",
          "text": [
            "/usr/local/lib/python3.7/dist-packages/sklearn/base.py:451: UserWarning: X does not have valid feature names, but LinearRegression was fitted with feature names\n",
            "  \"X does not have valid feature names, but\"\n"
          ]
        }
      ]
    },
    {
      "cell_type": "code",
      "source": [
        "print(\"Coefficient\",reg.coef_)\n",
        "print(\"Intercept\",reg.intercept_)"
      ],
      "metadata": {
        "colab": {
          "base_uri": "https://localhost:8080/"
        },
        "id": "JmqGDITm2yIJ",
        "outputId": "031e9fb6-8cb3-4d7b-9ccf-de5253cff4af"
      },
      "execution_count": 6,
      "outputs": [
        {
          "output_type": "stream",
          "name": "stdout",
          "text": [
            "Coefficient [0.21980607]\n",
            "Intercept -201.91195205784362\n"
          ]
        }
      ]
    },
    {
      "cell_type": "code",
      "source": [
        "y=.21980607*1275-201.91195205784362\n",
        "print(y)"
      ],
      "metadata": {
        "colab": {
          "base_uri": "https://localhost:8080/"
        },
        "id": "-uIzuNnN3dW0",
        "outputId": "1b050c59-f3c2-4771-88f8-58b6791e2aaf"
      },
      "execution_count": 7,
      "outputs": [
        {
          "output_type": "stream",
          "name": "stdout",
          "text": [
            "78.34078719215637\n"
          ]
        }
      ]
    },
    {
      "cell_type": "code",
      "source": [
        "from sklearn.model_selection import train_test_split\n",
        "X=df[['BHK_NO.','SQUARE_FT']]\n",
        "y=df['TARGET(PRICE_IN_LACS)']\n",
        "X_train,X_test,y_train,y_test=train_test_split(X,y,test_size=0.2,random_state=1)\n",
        "reg1=LinearRegression()\n",
        "reg1.fit(X_train,y_train)\n",
        "print(reg1.predict(X_test))\n"
      ],
      "metadata": {
        "colab": {
          "base_uri": "https://localhost:8080/"
        },
        "id": "d64BugPR4aYw",
        "outputId": "8778cd48-346e-4ccc-b955-f9187016a2c0"
      },
      "execution_count": 8,
      "outputs": [
        {
          "output_type": "stream",
          "name": "stdout",
          "text": [
            "[ 55.3404346   31.06090375  18.94334425  25.27500727 164.87599256\n",
            " 250.1206932   -8.45688574  25.95029361  63.44153533 100.81525296\n",
            "  20.44333081 141.56765266 348.13889645  72.66131216  68.56657291\n",
            " 119.80085481 114.81871421  57.56371681 -26.04276286   3.75498653\n",
            " 144.01437846  13.52529158  45.04064362  52.6552494   90.62249023\n",
            " 224.92458074 179.54648922  -3.98022004  54.26512761  79.55106366]\n"
          ]
        }
      ]
    },
    {
      "cell_type": "code",
      "source": [
        "print(reg1.coef_)\n",
        "print(reg1.intercept_)\n"
      ],
      "metadata": {
        "colab": {
          "base_uri": "https://localhost:8080/"
        },
        "id": "IcanWVg884Vo",
        "outputId": "5b36900f-d4e9-4180-a7ee-0461f9bd76e0"
      },
      "execution_count": 10,
      "outputs": [
        {
          "output_type": "stream",
          "name": "stdout",
          "text": [
            "[-92.16841753   0.22019213]\n",
            "21.708425738601875\n"
          ]
        }
      ]
    },
    {
      "cell_type": "code",
      "source": [
        "print(reg1.predict([[1275,1]]))"
      ],
      "metadata": {
        "colab": {
          "base_uri": "https://localhost:8080/"
        },
        "id": "5nK2K37V9WhZ",
        "outputId": "8739a3b0-06f5-4551-d123-8b3e10e04667"
      },
      "execution_count": 11,
      "outputs": [
        {
          "output_type": "stream",
          "name": "stdout",
          "text": [
            "[-117492.80373601]\n"
          ]
        },
        {
          "output_type": "stream",
          "name": "stderr",
          "text": [
            "/usr/local/lib/python3.7/dist-packages/sklearn/base.py:451: UserWarning: X does not have valid feature names, but LinearRegression was fitted with feature names\n",
            "  \"X does not have valid feature names, but\"\n"
          ]
        }
      ]
    },
    {
      "cell_type": "code",
      "source": [
        "yy=33.47962778*0+.21944339*1275-33.47962778-179.8509412690343\n",
        "print(yy)"
      ],
      "metadata": {
        "colab": {
          "base_uri": "https://localhost:8080/"
        },
        "id": "ZDXFRx2F9xS6",
        "outputId": "850ba2c5-d9a7-4392-b75f-24cf4a9c668a"
      },
      "execution_count": 12,
      "outputs": [
        {
          "output_type": "stream",
          "name": "stdout",
          "text": [
            "66.45975320096568\n"
          ]
        }
      ]
    }
  ]
}