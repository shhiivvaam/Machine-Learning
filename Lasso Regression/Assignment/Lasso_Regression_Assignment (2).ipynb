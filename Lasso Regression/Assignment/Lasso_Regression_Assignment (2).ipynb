{
  "cells": [
    {
      "cell_type": "code",
      "execution_count": 1,
      "metadata": {
        "id": "42IiP3AhmQJO"
      },
      "outputs": [],
      "source": [
        "from sklearn.linear_model import Lasso\n",
        "from sklearn.model_selection import GridSearchCV\n",
        "model=Lasso()"
      ]
    },
    {
      "cell_type": "code",
      "execution_count": 2,
      "metadata": {
        "id": "Hx73Fxh9jbro"
      },
      "outputs": [],
      "source": [
        "parameters={'alpha':[1,5,6,8,9,30,40,50,60,100,200,900]}\n",
        "newmodel=GridSearchCV(model,parameters,scoring='neg_mean_squared_error',cv=5)"
      ]
    },
    {
      "cell_type": "code",
      "execution_count": 5,
      "metadata": {
        "id": "VBuxHhRFs4PV"
      },
      "outputs": [],
      "source": [
        "import pandas as pd\n",
        "df=pd.read_csv('House_price_prediction.csv')\n",
        "X=df[['SQUARE_FT']]\n",
        "y=df['TARGET(PRICE_IN_LACS)']\n",
        "from sklearn.model_selection import train_test_split\n",
        "X_train,X_test,y_train,y_test=train_test_split(X,y,test_size=0.2,random_state=9)\n"
      ]
    },
    {
      "cell_type": "code",
      "execution_count": null,
      "metadata": {
        "colab": {
          "base_uri": "https://localhost:8080/"
        },
        "id": "i6PgVtuGjy6E",
        "outputId": "8c330b50-6fae-4afd-8ce0-d2f085830e2f"
      },
      "outputs": [
        {
          "data": {
            "text/plain": [
              "GridSearchCV(cv=5, estimator=Lasso(),\n",
              "             param_grid={'alpha': [1, 5, 6, 8, 9, 30, 40, 50, 60, 100, 200,\n",
              "                                   900]},\n",
              "             scoring='neg_mean_squared_error')"
            ]
          },
          "execution_count": 27,
          "metadata": {},
          "output_type": "execute_result"
        }
      ],
      "source": [
        "newmodel.fit(X_train,y_train)"
      ]
    },
    {
      "cell_type": "code",
      "execution_count": null,
      "metadata": {
        "colab": {
          "base_uri": "https://localhost:8080/"
        },
        "id": "NJ06c4oij7sY",
        "outputId": "ca797b0b-3652-4430-e53d-99b827bedbdd"
      },
      "outputs": [
        {
          "name": "stdout",
          "output_type": "stream",
          "text": [
            "{'alpha': 1}\n"
          ]
        }
      ],
      "source": [
        "print(newmodel.best_params_)"
      ]
    },
    {
      "cell_type": "code",
      "execution_count": null,
      "metadata": {
        "colab": {
          "base_uri": "https://localhost:8080/"
        },
        "id": "LuwgCRoFkHn2",
        "outputId": "f5078f06-28d3-4dc2-ae8e-dde77d81d155"
      },
      "outputs": [
        {
          "name": "stdout",
          "output_type": "stream",
          "text": [
            "[ 2.42456845e+02  9.27752777e+01  1.56271736e+02  5.39243647e+01\n",
            " -8.99489175e+01  5.90943724e+01  7.09739017e+01  5.08116959e+01\n",
            "  3.56866632e+02  6.66261205e+01  9.14443450e+02  8.76046305e+01\n",
            "  2.43395778e+01  1.10256670e+01  3.94113160e+02  1.74205890e+02\n",
            "  2.65807675e+01 -1.77693083e+01  1.59760170e+02 -2.22201955e+01\n",
            "  5.99024904e+01  1.98711125e-01  9.27574648e+01  1.60222749e+02\n",
            "  1.70895082e+02  8.42969271e+01  3.54593944e+01  1.39568268e+01\n",
            "  7.09922724e+01  5.98947640e+01]\n"
          ]
        }
      ],
      "source": [
        "y_pred=newmodel.predict(X_test)\n",
        "print(y_pred)"
      ]
    },
    {
      "cell_type": "code",
      "execution_count": null,
      "metadata": {
        "colab": {
          "base_uri": "https://localhost:8080/"
        },
        "id": "qPob1JnokKTu",
        "outputId": "b1b0366c-ad45-40dc-f5f0-707de9c7c681"
      },
      "outputs": [
        {
          "name": "stdout",
          "output_type": "stream",
          "text": [
            "0.07820807234628413\n"
          ]
        }
      ],
      "source": [
        "from sklearn.metrics import r2_score\n",
        "r2score=r2_score(y_pred,y_test)\n",
        "print(r2score)"
      ]
    },
    {
      "cell_type": "code",
      "execution_count": null,
      "metadata": {
        "colab": {
          "base_uri": "https://localhost:8080/",
          "height": 386
        },
        "id": "oCEzFufMkXy9",
        "outputId": "d5191ff2-55d9-4424-f10f-2a3fc1a74ca3"
      },
      "outputs": [
        {
          "data": {
            "text/plain": [
              "<seaborn.axisgrid.FacetGrid at 0x7ff079fb93d0>"
            ]
          },
          "execution_count": 31,
          "metadata": {},
          "output_type": "execute_result"
        },
        {
          "data": {
            "image/png": "[encoded data removed]",
            "text/plain": [
              "<Figure size 360x360 with 1 Axes>"
            ]
          },
          "metadata": {
            "needs_background": "light"
          },
          "output_type": "display_data"
        }
      ],
      "source": [
        "import seaborn as sns\n",
        "sns.displot(y_pred-y_test,kind='kde')"
      ]
    }
  ],
  "metadata": {
    "colab": {
      "collapsed_sections": [],
      "name": "Untitled4.ipynb",
      "provenance": []
    },
    "kernelspec": {
      "display_name": "Python 3.10.5 64-bit",
      "language": "python",
      "name": "python3"
    },
    "language_info": {
      "codemirror_mode": {
        "name": "ipython",
        "version": 3
      },
      "file_extension": ".py",
      "mimetype": "text/x-python",
      "name": "python",
      "nbconvert_exporter": "python",
      "pygments_lexer": "ipython3",
      "version": "3.10.5"
    },
    "vscode": {
      "interpreter": {
        "hash": "a35710b63bc1545f164057578b6307b68256e29cd78dee7aaa166bac1715224f"
      }
    }
  },
  "nbformat": 4,
  "nbformat_minor": 0
}
