{
  "nbformat": 4,
  "nbformat_minor": 0,
  "metadata": {
    "colab": {
      "name": "Random Forest.ipynb",
      "provenance": [],
      "collapsed_sections": []
    },
    "kernelspec": {
      "name": "python3",
      "display_name": "Python 3"
    },
    "language_info": {
      "name": "python"
    }
  },
  "cells": [
    {
      "cell_type": "code",
      "execution_count": null,
      "metadata": {
        "id": "2T8_ucqnRN6_"
      },
      "outputs": [],
      "source": [
        "from sklearn.datasets import load_digits\n",
        "d=load_digits()\n",
        "d"
      ]
    },
    {
      "cell_type": "code",
      "source": [
        "print(list(d.keys()))"
      ],
      "metadata": {
        "colab": {
          "base_uri": "https://localhost:8080/"
        },
        "id": "jEK25BJ0RhuU",
        "outputId": "5e492dea-4348-4185-9b99-e9de5adf6018"
      },
      "execution_count": null,
      "outputs": [
        {
          "output_type": "stream",
          "name": "stdout",
          "text": [
            "['data', 'target', 'frame', 'feature_names', 'target_names', 'images', 'DESCR']\n"
          ]
        }
      ]
    },
    {
      "cell_type": "code",
      "source": [
        "import pandas as pd\n",
        "df=pd.DataFrame(d['data'],columns=d['feature_names'])\n",
        "df"
      ],
      "metadata": {
        "id": "KeD5BNTnRowt"
      },
      "execution_count": null,
      "outputs": []
    },
    {
      "cell_type": "code",
      "source": [
        "df['target']=d['target']\n",
        "print(len(df['target']))"
      ],
      "metadata": {
        "id": "z5meM-qPR2Is",
        "colab": {
          "base_uri": "https://localhost:8080/"
        },
        "outputId": "a62b59de-96e5-4a37-c85b-0cb3069e1bb5"
      },
      "execution_count": null,
      "outputs": [
        {
          "output_type": "stream",
          "name": "stdout",
          "text": [
            "1797\n"
          ]
        }
      ]
    },
    {
      "cell_type": "code",
      "source": [
        "df"
      ],
      "metadata": {
        "id": "XlKRjE3hSBH2"
      },
      "execution_count": null,
      "outputs": []
    },
    {
      "cell_type": "code",
      "source": [
        "X=df.drop('target',axis='columns')\n",
        "y=df['target']\n",
        "from sklearn.model_selection import train_test_split\n",
        "X_train,X_test,y_train,y_test=train_test_split(X,y,test_size=0.2)\n",
        "print(len(X_train))\n",
        "print(len(X_test))"
      ],
      "metadata": {
        "id": "aYS2uVZ-SFPa",
        "colab": {
          "base_uri": "https://localhost:8080/"
        },
        "outputId": "3bd25d52-7b24-40ae-c564-deb388107a55"
      },
      "execution_count": null,
      "outputs": [
        {
          "output_type": "stream",
          "name": "stdout",
          "text": [
            "1437\n",
            "360\n"
          ]
        }
      ]
    },
    {
      "cell_type": "code",
      "source": [
        "from sklearn.ensemble import RandomForestClassifier \n",
        "from sklearn.tree import DecisionTreeClassifier\n",
        "from sklearn.linear_model import LogisticRegression\n",
        "from sklearn.svm import SVC\n",
        "from sklearn.neighbors import KNeighborsClassifier\n",
        "model=RandomForestClassifier()                 \n",
        "model1=DecisionTreeClassifier()                                  #model=RandomForestClassifier(n_estimators=10)\n",
        "model2=LogisticRegression()\n",
        "model3=SVC()\n",
        "model4=KNeighborsClassifier()\n",
        "model.fit(X_train,y_train)\n",
        "model1.fit(X_train,y_train)\n",
        "model2.fit(X_train,y_train)\n",
        "model3.fit(X_train,y_train)\n",
        "model4.fit(X_train,y_train)\n",
        "y_pred=model.predict(X_test)\n",
        "print(y_pred)\n"
      ],
      "metadata": {
        "id": "XRLOzxKPSp3g"
      },
      "execution_count": null,
      "outputs": []
    },
    {
      "cell_type": "code",
      "source": [
        "print(\"Random Forest Accuracy\",model.score(X_test,y_test))\n",
        "print(\"Decision Tree Accuracy\",model1.score(X_test,y_test))\n",
        "print(\"Logistic Regression Accuracy\",model2.score(X_test,y_test))\n",
        "print(\"SVM Accuracy\",model3.score(X_test,y_test))\n",
        "print(\"KNN Accuracy\",model4.score(X_test,y_test))"
      ],
      "metadata": {
        "id": "o4EvWCfwTFmn",
        "colab": {
          "base_uri": "https://localhost:8080/"
        },
        "outputId": "5cdd6a80-a539-4927-a0b6-448e5c02898c"
      },
      "execution_count": null,
      "outputs": [
        {
          "output_type": "stream",
          "name": "stdout",
          "text": [
            "Random Forest Accuracy 0.9888888888888889\n",
            "Decision Tree Accuracy 0.8472222222222222\n",
            "Logistic Regression Accuracy 0.9555555555555556\n",
            "SVM Accuracy 0.9916666666666667\n",
            "KNN Accuracy 0.9777777777777777\n"
          ]
        }
      ]
    },
    {
      "cell_type": "code",
      "source": [
        "from sklearn.metrics import classification_report,confusion_matrix,accuracy_score\n",
        "cm=confusion_matrix(y_test,y_pred)\n",
        "print(cm)"
      ],
      "metadata": {
        "id": "9LWIEcQvTQMs",
        "colab": {
          "base_uri": "https://localhost:8080/"
        },
        "outputId": "0ab9b697-58db-42e5-d441-c86ba9072366"
      },
      "execution_count": null,
      "outputs": [
        {
          "output_type": "stream",
          "name": "stdout",
          "text": [
            "[[38  0  0  0  0  0  0  0  0  0]\n",
            " [ 0 33  0  0  0  0  0  0  0  0]\n",
            " [ 0  0 38  0  0  0  0  0  0  0]\n",
            " [ 0  0  0 38  0  0  0  0  1  0]\n",
            " [ 0  0  0  0 32  0  0  0  0  0]\n",
            " [ 0  0  0  0  0 35  1  0  0  1]\n",
            " [ 0  0  0  0  0  0 27  0  0  0]\n",
            " [ 0  0  0  0  0  0  0 45  0  0]\n",
            " [ 0  1  0  0  0  0  0  0 34  0]\n",
            " [ 0  0  0  0  0  0  0  0  0 36]]\n"
          ]
        }
      ]
    },
    {
      "cell_type": "code",
      "source": [
        "import matplotlib.pyplot as plt\n",
        "plt.figure(figsize=(10,7))\n",
        "import seaborn as sns\n",
        "sns.heatmap(cm,annot=True)\n",
        "plt.xlabel('Predicted')\n",
        "plt.ylabel('Truth')\n",
        "plt.show()\n"
      ],
      "metadata": {
        "id": "q2jM77xwUQC3",
        "colab": {
          "base_uri": "https://localhost:8080/",
          "height": 446
        },
        "outputId": "ed4f071c-d742-41e4-9843-5a23d553b658"
      },
      "execution_count": null,
      "outputs": [
        {
          "output_type": "display_data",
          "data": {
            "text/plain": [
              "<Figure size 720x504 with 2 Axes>"
            ],
            "image/png": "[encoded data removed]"
          },
          "metadata": {
            "needs_background": "light"
          }
        }
      ]
    },
    {
      "cell_type": "code",
      "source": [
        "print(classification_report(y_test,y_pred))"
      ],
      "metadata": {
        "id": "shaFfwZYXKR4",
        "colab": {
          "base_uri": "https://localhost:8080/"
        },
        "outputId": "ba2045e9-6c63-4e69-91bd-327b3306d14c"
      },
      "execution_count": null,
      "outputs": [
        {
          "output_type": "stream",
          "name": "stdout",
          "text": [
            "              precision    recall  f1-score   support\n",
            "\n",
            "           0       1.00      1.00      1.00        38\n",
            "           1       0.97      1.00      0.99        33\n",
            "           2       1.00      1.00      1.00        38\n",
            "           3       1.00      0.97      0.99        39\n",
            "           4       1.00      1.00      1.00        32\n",
            "           5       1.00      0.95      0.97        37\n",
            "           6       0.96      1.00      0.98        27\n",
            "           7       1.00      1.00      1.00        45\n",
            "           8       0.97      0.97      0.97        35\n",
            "           9       0.97      1.00      0.99        36\n",
            "\n",
            "    accuracy                           0.99       360\n",
            "   macro avg       0.99      0.99      0.99       360\n",
            "weighted avg       0.99      0.99      0.99       360\n",
            "\n"
          ]
        }
      ]
    },
    {
      "cell_type": "code",
      "source": [
        "print(accuracy_score(y_test,y_pred))"
      ],
      "metadata": {
        "id": "vrj1Or11YC_k",
        "colab": {
          "base_uri": "https://localhost:8080/"
        },
        "outputId": "89559ad7-a6bc-4b72-b0f3-c961201c7492"
      },
      "execution_count": null,
      "outputs": [
        {
          "output_type": "stream",
          "name": "stdout",
          "text": [
            "0.9888888888888889\n"
          ]
        }
      ]
    }
  ]
}