{
  "nbformat": 4,
  "nbformat_minor": 0,
  "metadata": {
    "colab": {
      "name": "SVM.ipynb",
      "provenance": [],
      "collapsed_sections": []
    },
    "kernelspec": {
      "name": "python3",
      "display_name": "Python 3"
    },
    "language_info": {
      "name": "python"
    }
  },
  "cells": [
    {
      "cell_type": "code",
      "execution_count": null,
      "metadata": {
        "id": "O90d-6Hje9lQ"
      },
      "outputs": [],
      "source": [
        "import pandas as pd\n",
        "from sklearn.datasets import load_iris\n",
        "dic=load_iris()\n",
        "print(dic)"
      ]
    },
    {
      "cell_type": "code",
      "source": [
        "df=pd.DataFrame(dic['data'],columns=dic['feature_names'])\n",
        "\n",
        "print(df)\n"
      ],
      "metadata": {
        "id": "iSdIjoM5gVic",
        "colab": {
          "base_uri": "https://localhost:8080/"
        },
        "outputId": "7f7313b3-ada3-4ecd-8228-f99411966562"
      },
      "execution_count": null,
      "outputs": [
        {
          "output_type": "stream",
          "name": "stdout",
          "text": [
            "     sepal length (cm)  sepal width (cm)  petal length (cm)  petal width (cm)\n",
            "0                  5.1               3.5                1.4               0.2\n",
            "1                  4.9               3.0                1.4               0.2\n",
            "2                  4.7               3.2                1.3               0.2\n",
            "3                  4.6               3.1                1.5               0.2\n",
            "4                  5.0               3.6                1.4               0.2\n",
            "..                 ...               ...                ...               ...\n",
            "145                6.7               3.0                5.2               2.3\n",
            "146                6.3               2.5                5.0               1.9\n",
            "147                6.5               3.0                5.2               2.0\n",
            "148                6.2               3.4                5.4               2.3\n",
            "149                5.9               3.0                5.1               1.8\n",
            "\n",
            "[150 rows x 4 columns]\n"
          ]
        }
      ]
    },
    {
      "cell_type": "code",
      "source": [
        "df['target']=dic['target']\n",
        "print(df)"
      ],
      "metadata": {
        "id": "3lFCUDclhXrB"
      },
      "execution_count": null,
      "outputs": []
    },
    {
      "cell_type": "code",
      "source": [
        "X=df.drop('target',axis='columns')\n",
        "y=df['target']"
      ],
      "metadata": {
        "id": "h0qudCftjkTs"
      },
      "execution_count": null,
      "outputs": []
    },
    {
      "cell_type": "code",
      "source": [
        "from sklearn.model_selection import train_test_split\n",
        "X_train,X_test,y_train,y_test=train_test_split(X,y,test_size=0.2,random_state=9)\n",
        "from sklearn.svm import SVC\n",
        "model=SVC(kernel='poly')\n",
        "model.fit(X_train,y_train)\n"
      ],
      "metadata": {
        "id": "hzgoVrsOkGtc",
        "colab": {
          "base_uri": "https://localhost:8080/"
        },
        "outputId": "940fd708-a1eb-4ca0-e040-fe7e7e442b59"
      },
      "execution_count": null,
      "outputs": [
        {
          "output_type": "execute_result",
          "data": {
            "text/plain": [
              "SVC(kernel='poly')"
            ]
          },
          "metadata": {},
          "execution_count": 17
        }
      ]
    },
    {
      "cell_type": "code",
      "source": [
        "print(model.predict([[5.5,3.6,2.1,1.0]]))"
      ],
      "metadata": {
        "id": "_hdMZ2PslfwG",
        "colab": {
          "base_uri": "https://localhost:8080/"
        },
        "outputId": "383226a5-c1e2-4228-c396-a083df019b36"
      },
      "execution_count": null,
      "outputs": [
        {
          "output_type": "stream",
          "name": "stdout",
          "text": [
            "[0]\n"
          ]
        },
        {
          "output_type": "stream",
          "name": "stderr",
          "text": [
            "/usr/local/lib/python3.7/dist-packages/sklearn/base.py:451: UserWarning: X does not have valid feature names, but SVC was fitted with feature names\n",
            "  \"X does not have valid feature names, but\"\n"
          ]
        }
      ]
    },
    {
      "cell_type": "code",
      "source": [
        "print(model.predict(X_test))"
      ],
      "metadata": {
        "id": "ZlXFpjVPlu76",
        "colab": {
          "base_uri": "https://localhost:8080/"
        },
        "outputId": "916b5d35-1f0c-475f-8c5b-b3d766069068"
      },
      "execution_count": null,
      "outputs": [
        {
          "output_type": "stream",
          "name": "stdout",
          "text": [
            "[2 1 2 2 1 0 0 0 1 0 0 1 1 1 0 1 0 1 2 0 0 0 2 0 2 1 0 2 0 2]\n"
          ]
        }
      ]
    },
    {
      "cell_type": "code",
      "source": [
        "print(model.score(X_test,y_test))"
      ],
      "metadata": {
        "id": "1h6Nza3klzyR",
        "colab": {
          "base_uri": "https://localhost:8080/"
        },
        "outputId": "08c0f183-7210-4fb6-b237-7152c90572b4"
      },
      "execution_count": null,
      "outputs": [
        {
          "output_type": "stream",
          "name": "stdout",
          "text": [
            "1.0\n"
          ]
        }
      ]
    }
  ]
}