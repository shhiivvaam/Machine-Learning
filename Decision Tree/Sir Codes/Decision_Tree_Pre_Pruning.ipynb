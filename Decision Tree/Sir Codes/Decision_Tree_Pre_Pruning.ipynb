{
  "nbformat": 4,
  "nbformat_minor": 0,
  "metadata": {
    "colab": {
      "name": "Decision Tree Pre Pruning.ipynb",
      "provenance": [],
      "collapsed_sections": []
    },
    "kernelspec": {
      "name": "python3",
      "display_name": "Python 3"
    },
    "language_info": {
      "name": "python"
    }
  },
  "cells": [
    {
      "cell_type": "code",
      "execution_count": null,
      "metadata": {
        "id": "EdOKmeWY2UjK"
      },
      "outputs": [],
      "source": [
        "import pandas as pd\n",
        "df=pd.read_csv('/content/IRIS.csv')"
      ]
    },
    {
      "cell_type": "code",
      "source": [
        "X=df.drop('species',axis='columns')\n",
        "y=df['species']"
      ],
      "metadata": {
        "id": "DhLjATla2wFd"
      },
      "execution_count": null,
      "outputs": []
    },
    {
      "cell_type": "code",
      "source": [
        "from sklearn.tree import DecisionTreeClassifier \n",
        "model=DecisionTreeClassifier()"
      ],
      "metadata": {
        "id": "AT1z6_5R2_7a"
      },
      "execution_count": null,
      "outputs": []
    },
    {
      "cell_type": "code",
      "source": [
        "parameters={'criterion':['gini','entropy','log_loss'],\n",
        "            'splitter':['best','random'],\n",
        "            'max_depth':[1,2,3,4,5],\n",
        "            'max_features':['auto','sqrt','log2']}"
      ],
      "metadata": {
        "id": "2qNI2l8R3NPU"
      },
      "execution_count": null,
      "outputs": []
    },
    {
      "cell_type": "code",
      "source": [
        "from sklearn.model_selection import GridSearchCV\n",
        "new_model=GridSearchCV(model,param_grid=parameters,scoring='accuracy',cv=5)"
      ],
      "metadata": {
        "id": "kkA5TUgG4hPu"
      },
      "execution_count": null,
      "outputs": []
    },
    {
      "cell_type": "code",
      "source": [
        "from sklearn.model_selection import train_test_split \n",
        "X_train,X_test,y_train,y_test=train_test_split(X,y,test_size=0.2,random_state=9)\n",
        "new_model.fit(X_train,y_train)\n"
      ],
      "metadata": {
        "id": "46dwcFrC49-L"
      },
      "execution_count": null,
      "outputs": []
    },
    {
      "cell_type": "code",
      "source": [
        "print(new_model.best_params_)"
      ],
      "metadata": {
        "colab": {
          "base_uri": "https://localhost:8080/"
        },
        "id": "sctHp0Qw6Tms",
        "outputId": "ed4f3790-2340-4317-df47-c17952e3d330"
      },
      "execution_count": null,
      "outputs": [
        {
          "output_type": "stream",
          "name": "stdout",
          "text": [
            "{'criterion': 'gini', 'max_depth': 5, 'max_features': 'auto', 'splitter': 'best'}\n"
          ]
        }
      ]
    },
    {
      "cell_type": "code",
      "source": [
        "print(new_model.score(X_test,y_test))"
      ],
      "metadata": {
        "colab": {
          "base_uri": "https://localhost:8080/"
        },
        "id": "6KXDY6x-6XPJ",
        "outputId": "b0b9c879-fd22-4efc-b39c-61997b6ecd5a"
      },
      "execution_count": null,
      "outputs": [
        {
          "output_type": "stream",
          "name": "stdout",
          "text": [
            "1.0\n"
          ]
        }
      ]
    }
  ]
}