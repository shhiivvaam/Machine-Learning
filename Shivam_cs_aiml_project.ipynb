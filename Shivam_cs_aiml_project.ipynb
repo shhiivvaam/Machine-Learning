{
  "nbformat": 4,
  "nbformat_minor": 0,
  "metadata": {
    "colab": {
      "name": "PROJECTJOVAC.ipynb",
      "provenance": [],
      "collapsed_sections": [],
      "toc_visible": true
    },
    "kernelspec": {
      "name": "python3",
      "display_name": "Python 3"
    },
    "language_info": {
      "name": "python"
    }
  },
  "cells": [
    {
      "cell_type": "code",
      "execution_count": null,
      "metadata": {
        "colab": {
          "base_uri": "https://localhost:8080/"
        },
        "id": "LRveW53Dnd6M",
        "outputId": "52f127b8-4515-47b1-d211-1424c3708867"
      },
      "outputs": [
        {
          "output_type": "stream",
          "name": "stdout",
          "text": [
            "{'data': array([[ 0.,  0.,  5., ...,  0.,  0.,  0.],\n",
            "       [ 0.,  0.,  0., ..., 10.,  0.,  0.],\n",
            "       [ 0.,  0.,  0., ..., 16.,  9.,  0.],\n",
            "       ...,\n",
            "       [ 0.,  0.,  1., ...,  6.,  0.,  0.],\n",
            "       [ 0.,  0.,  2., ..., 12.,  0.,  0.],\n",
            "       [ 0.,  0., 10., ..., 12.,  1.,  0.]]), 'target': array([0, 1, 2, ..., 8, 9, 8]), 'frame': None, 'feature_names': ['pixel_0_0', 'pixel_0_1', 'pixel_0_2', 'pixel_0_3', 'pixel_0_4', 'pixel_0_5', 'pixel_0_6', 'pixel_0_7', 'pixel_1_0', 'pixel_1_1', 'pixel_1_2', 'pixel_1_3', 'pixel_1_4', 'pixel_1_5', 'pixel_1_6', 'pixel_1_7', 'pixel_2_0', 'pixel_2_1', 'pixel_2_2', 'pixel_2_3', 'pixel_2_4', 'pixel_2_5', 'pixel_2_6', 'pixel_2_7', 'pixel_3_0', 'pixel_3_1', 'pixel_3_2', 'pixel_3_3', 'pixel_3_4', 'pixel_3_5', 'pixel_3_6', 'pixel_3_7', 'pixel_4_0', 'pixel_4_1', 'pixel_4_2', 'pixel_4_3', 'pixel_4_4', 'pixel_4_5', 'pixel_4_6', 'pixel_4_7', 'pixel_5_0', 'pixel_5_1', 'pixel_5_2', 'pixel_5_3', 'pixel_5_4', 'pixel_5_5', 'pixel_5_6', 'pixel_5_7', 'pixel_6_0', 'pixel_6_1', 'pixel_6_2', 'pixel_6_3', 'pixel_6_4', 'pixel_6_5', 'pixel_6_6', 'pixel_6_7', 'pixel_7_0', 'pixel_7_1', 'pixel_7_2', 'pixel_7_3', 'pixel_7_4', 'pixel_7_5', 'pixel_7_6', 'pixel_7_7'], 'target_names': array([0, 1, 2, 3, 4, 5, 6, 7, 8, 9]), 'images': array([[[ 0.,  0.,  5., ...,  1.,  0.,  0.],\n",
            "        [ 0.,  0., 13., ..., 15.,  5.,  0.],\n",
            "        [ 0.,  3., 15., ..., 11.,  8.,  0.],\n",
            "        ...,\n",
            "        [ 0.,  4., 11., ..., 12.,  7.,  0.],\n",
            "        [ 0.,  2., 14., ..., 12.,  0.,  0.],\n",
            "        [ 0.,  0.,  6., ...,  0.,  0.,  0.]],\n",
            "\n",
            "       [[ 0.,  0.,  0., ...,  5.,  0.,  0.],\n",
            "        [ 0.,  0.,  0., ...,  9.,  0.,  0.],\n",
            "        [ 0.,  0.,  3., ...,  6.,  0.,  0.],\n",
            "        ...,\n",
            "        [ 0.,  0.,  1., ...,  6.,  0.,  0.],\n",
            "        [ 0.,  0.,  1., ...,  6.,  0.,  0.],\n",
            "        [ 0.,  0.,  0., ..., 10.,  0.,  0.]],\n",
            "\n",
            "       [[ 0.,  0.,  0., ..., 12.,  0.,  0.],\n",
            "        [ 0.,  0.,  3., ..., 14.,  0.,  0.],\n",
            "        [ 0.,  0.,  8., ..., 16.,  0.,  0.],\n",
            "        ...,\n",
            "        [ 0.,  9., 16., ...,  0.,  0.,  0.],\n",
            "        [ 0.,  3., 13., ..., 11.,  5.,  0.],\n",
            "        [ 0.,  0.,  0., ..., 16.,  9.,  0.]],\n",
            "\n",
            "       ...,\n",
            "\n",
            "       [[ 0.,  0.,  1., ...,  1.,  0.,  0.],\n",
            "        [ 0.,  0., 13., ...,  2.,  1.,  0.],\n",
            "        [ 0.,  0., 16., ..., 16.,  5.,  0.],\n",
            "        ...,\n",
            "        [ 0.,  0., 16., ..., 15.,  0.,  0.],\n",
            "        [ 0.,  0., 15., ..., 16.,  0.,  0.],\n",
            "        [ 0.,  0.,  2., ...,  6.,  0.,  0.]],\n",
            "\n",
            "       [[ 0.,  0.,  2., ...,  0.,  0.,  0.],\n",
            "        [ 0.,  0., 14., ..., 15.,  1.,  0.],\n",
            "        [ 0.,  4., 16., ..., 16.,  7.,  0.],\n",
            "        ...,\n",
            "        [ 0.,  0.,  0., ..., 16.,  2.,  0.],\n",
            "        [ 0.,  0.,  4., ..., 16.,  2.,  0.],\n",
            "        [ 0.,  0.,  5., ..., 12.,  0.,  0.]],\n",
            "\n",
            "       [[ 0.,  0., 10., ...,  1.,  0.,  0.],\n",
            "        [ 0.,  2., 16., ...,  1.,  0.,  0.],\n",
            "        [ 0.,  0., 15., ..., 15.,  0.,  0.],\n",
            "        ...,\n",
            "        [ 0.,  4., 16., ..., 16.,  6.,  0.],\n",
            "        [ 0.,  8., 16., ..., 16.,  8.,  0.],\n",
            "        [ 0.,  1.,  8., ..., 12.,  1.,  0.]]]), 'DESCR': \".. _digits_dataset:\\n\\nOptical recognition of handwritten digits dataset\\n--------------------------------------------------\\n\\n**Data Set Characteristics:**\\n\\n    :Number of Instances: 1797\\n    :Number of Attributes: 64\\n    :Attribute Information: 8x8 image of integer pixels in the range 0..16.\\n    :Missing Attribute Values: None\\n    :Creator: E. Alpaydin (alpaydin '@' boun.edu.tr)\\n    :Date: July; 1998\\n\\nThis is a copy of the test set of the UCI ML hand-written digits datasets\\nhttps://archive.ics.uci.edu/ml/datasets/Optical+Recognition+of+Handwritten+Digits\\n\\nThe data set contains images of hand-written digits: 10 classes where\\neach class refers to a digit.\\n\\nPreprocessing programs made available by NIST were used to extract\\nnormalized bitmaps of handwritten digits from a preprinted form. From a\\ntotal of 43 people, 30 contributed to the training set and different 13\\nto the test set. 32x32 bitmaps are divided into nonoverlapping blocks of\\n4x4 and the number of on pixels are counted in each block. This generates\\nan input matrix of 8x8 where each element is an integer in the range\\n0..16. This reduces dimensionality and gives invariance to small\\ndistortions.\\n\\nFor info on NIST preprocessing routines, see M. D. Garris, J. L. Blue, G.\\nT. Candela, D. L. Dimmick, J. Geist, P. J. Grother, S. A. Janet, and C.\\nL. Wilson, NIST Form-Based Handprint Recognition System, NISTIR 5469,\\n1994.\\n\\n.. topic:: References\\n\\n  - C. Kaynak (1995) Methods of Combining Multiple Classifiers and Their\\n    Applications to Handwritten Digit Recognition, MSc Thesis, Institute of\\n    Graduate Studies in Science and Engineering, Bogazici University.\\n  - E. Alpaydin, C. Kaynak (1998) Cascading Classifiers, Kybernetika.\\n  - Ken Tang and Ponnuthurai N. Suganthan and Xi Yao and A. Kai Qin.\\n    Linear dimensionalityreduction using relevance weighted LDA. School of\\n    Electrical and Electronic Engineering Nanyang Technological University.\\n    2005.\\n  - Claudio Gentile. A New Approximate Maximal Margin Classification\\n    Algorithm. NIPS. 2000.\\n\"}\n"
          ]
        }
      ],
      "source": [
        "import pandas as pd\n",
        "from sklearn.datasets import load_digits\n",
        "df= load_digits()\n",
        "print(df)"
      ]
    },
    {
      "cell_type": "markdown",
      "source": [
        "APPLY **PREPROCESSING StandardScalere**\n",
        "\n"
      ],
      "metadata": {
        "id": "TP2IL9DhnktC"
      }
    },
    {
      "cell_type": "code",
      "source": [
        "import pandas as pd\n",
        "dic=pd.DataFrame(df['data'],columns=df['feature_names'])\n",
        "X=dic\n",
        "y=df['target']"
      ],
      "metadata": {
        "id": "HRVtXzlXovIG"
      },
      "execution_count": null,
      "outputs": []
    },
    {
      "cell_type": "code",
      "source": [
        "from sklearn.preprocessing import StandardScaler \n",
        "model1=StandardScaler()\n",
        "X_scaled=model1.fit_transform(X)\n",
        "print(X_scaled)"
      ],
      "metadata": {
        "colab": {
          "base_uri": "https://localhost:8080/"
        },
        "id": "TRw-_FThtSlQ",
        "outputId": "d76d08e7-51bd-4489-ecd6-0c57696367c0"
      },
      "execution_count": null,
      "outputs": [
        {
          "output_type": "stream",
          "name": "stdout",
          "text": [
            "[[ 0.         -0.33501649 -0.04308102 ... -1.14664746 -0.5056698\n",
            "  -0.19600752]\n",
            " [ 0.         -0.33501649 -1.09493684 ...  0.54856067 -0.5056698\n",
            "  -0.19600752]\n",
            " [ 0.         -0.33501649 -1.09493684 ...  1.56568555  1.6951369\n",
            "  -0.19600752]\n",
            " ...\n",
            " [ 0.         -0.33501649 -0.88456568 ... -0.12952258 -0.5056698\n",
            "  -0.19600752]\n",
            " [ 0.         -0.33501649 -0.67419451 ...  0.8876023  -0.5056698\n",
            "  -0.19600752]\n",
            " [ 0.         -0.33501649  1.00877481 ...  0.8876023  -0.26113572\n",
            "  -0.19600752]]\n"
          ]
        }
      ]
    },
    {
      "cell_type": "markdown",
      "source": [
        " **APPLY PCA**\n"
      ],
      "metadata": {
        "id": "trp4OI3bvX_g"
      }
    },
    {
      "cell_type": "code",
      "source": [
        "from sklearn.decomposition import PCA\n",
        "pca=PCA(0.67)\n",
        "X_pca=pca.fit_transform(X)\n",
        "print(\"post pca shape\",X_pca.shape)\n",
        "print(\"pre pca shape\",X.shape)"
      ],
      "metadata": {
        "colab": {
          "base_uri": "https://localhost:8080/"
        },
        "id": "PJsGrWbwtkZr",
        "outputId": "aae0414b-5a73-4982-e8da-e35968457751"
      },
      "execution_count": null,
      "outputs": [
        {
          "output_type": "stream",
          "name": "stdout",
          "text": [
            "post pca shape (1797, 8)\n",
            "pre pca shape (1797, 64)\n"
          ]
        }
      ]
    },
    {
      "cell_type": "code",
      "source": [
        "pca.explained_variance_ratio_\n"
      ],
      "metadata": {
        "colab": {
          "base_uri": "https://localhost:8080/"
        },
        "id": "9cR07OqKt48P",
        "outputId": "d9d4c358-5842-46ba-8e37-5a371c12349e"
      },
      "execution_count": null,
      "outputs": [
        {
          "output_type": "execute_result",
          "data": {
            "text/plain": [
              "array([0.14890594, 0.13618771, 0.11794594, 0.08409979, 0.05782415,\n",
              "       0.0491691 , 0.04315987, 0.03661373])"
            ]
          },
          "metadata": {},
          "execution_count": 8
        }
      ]
    },
    {
      "cell_type": "code",
      "source": [
        "pca.n_components_"
      ],
      "metadata": {
        "colab": {
          "base_uri": "https://localhost:8080/"
        },
        "id": "wJVCdtgxuEfU",
        "outputId": "a9b9fc2b-3101-4d2a-ea88-aabad60834c4"
      },
      "execution_count": null,
      "outputs": [
        {
          "output_type": "execute_result",
          "data": {
            "text/plain": [
              "8"
            ]
          },
          "metadata": {},
          "execution_count": 9
        }
      ]
    },
    {
      "cell_type": "code",
      "source": [
        "from sklearn.linear_model import LogisticRegression\n",
        "from sklearn.model_selection import train_test_split\n",
        "X_train,X_test,y_train,y_test=train_test_split(X,y,test_size=0.2,random_state=8)\n",
        "logistic=LogisticRegression()\n",
        "logistic.fit(X_train,y_train)\n",
        "print(logistic.score(X_test,y_test))"
      ],
      "metadata": {
        "colab": {
          "base_uri": "https://localhost:8080/"
        },
        "id": "0xtIB9XAuVVx",
        "outputId": "c4bfa90b-bb2f-4cdb-e6ad-68b64ee7ec77"
      },
      "execution_count": null,
      "outputs": [
        {
          "output_type": "stream",
          "name": "stdout",
          "text": [
            "0.9666666666666667\n"
          ]
        },
        {
          "output_type": "stream",
          "name": "stderr",
          "text": [
            "/usr/local/lib/python3.7/dist-packages/sklearn/linear_model/_logistic.py:818: ConvergenceWarning: lbfgs failed to converge (status=1):\n",
            "STOP: TOTAL NO. of ITERATIONS REACHED LIMIT.\n",
            "\n",
            "Increase the number of iterations (max_iter) or scale the data as shown in:\n",
            "    https://scikit-learn.org/stable/modules/preprocessing.html\n",
            "Please also refer to the documentation for alternative solver options:\n",
            "    https://scikit-learn.org/stable/modules/linear_model.html#logistic-regression\n",
            "  extra_warning_msg=_LOGISTIC_SOLVER_CONVERGENCE_MSG,\n"
          ]
        }
      ]
    },
    {
      "cell_type": "code",
      "source": [
        "X_train_pca,X_test_pca,y_train_pca,y_test_pca=train_test_split(X_pca,y,test_size=0.2,random_state=9)\n",
        "logistic1=LogisticRegression()\n",
        "logistic1.fit(X_train_pca,y_train_pca)\n",
        "print(logistic1.score(X_test_pca,y_test_pca))"
      ],
      "metadata": {
        "colab": {
          "base_uri": "https://localhost:8080/"
        },
        "id": "_ZWrFaIbuZcR",
        "outputId": "daed0b8d-d34c-45b7-aac3-a1696105d1c0"
      },
      "execution_count": null,
      "outputs": [
        {
          "output_type": "stream",
          "name": "stdout",
          "text": [
            "0.9083333333333333\n"
          ]
        },
        {
          "output_type": "stream",
          "name": "stderr",
          "text": [
            "/usr/local/lib/python3.7/dist-packages/sklearn/linear_model/_logistic.py:818: ConvergenceWarning: lbfgs failed to converge (status=1):\n",
            "STOP: TOTAL NO. of ITERATIONS REACHED LIMIT.\n",
            "\n",
            "Increase the number of iterations (max_iter) or scale the data as shown in:\n",
            "    https://scikit-learn.org/stable/modules/preprocessing.html\n",
            "Please also refer to the documentation for alternative solver options:\n",
            "    https://scikit-learn.org/stable/modules/linear_model.html#logistic-regression\n",
            "  extra_warning_msg=_LOGISTIC_SOLVER_CONVERGENCE_MSG,\n"
          ]
        }
      ]
    },
    {
      "cell_type": "code",
      "source": [
        "pca1=PCA(n_components=3)\n",
        "X_pca1=pca1.fit_transform(X)\n",
        "print(X_pca1.shape)\n"
      ],
      "metadata": {
        "colab": {
          "base_uri": "https://localhost:8080/"
        },
        "id": "Y8BZ1ZwEu2T3",
        "outputId": "b7038418-0190-4ea2-cb08-c9d0d222fc8b"
      },
      "execution_count": null,
      "outputs": [
        {
          "output_type": "stream",
          "name": "stdout",
          "text": [
            "(1797, 3)\n"
          ]
        }
      ]
    },
    {
      "cell_type": "code",
      "source": [
        "print(X_pca1)\n",
        "\n",
        "print(pca1.explained_variance_ratio_)"
      ],
      "metadata": {
        "colab": {
          "base_uri": "https://localhost:8080/"
        },
        "id": "-dv4C3P-vF2b",
        "outputId": "9400ddec-8881-4280-da2d-078e39418b47"
      },
      "execution_count": null,
      "outputs": [
        {
          "output_type": "stream",
          "name": "stdout",
          "text": [
            "[[ -1.2594671   21.27488283  -9.46305578]\n",
            " [  7.95761372 -20.76869687   4.43951599]\n",
            " [  6.99192218  -9.95598701   2.95855599]\n",
            " ...\n",
            " [ 10.80128176  -6.9602542    5.59954892]\n",
            " [ -4.87209478  12.42395898 -10.17082797]\n",
            " [ -0.344393     6.365546    10.77369378]]\n",
            "[0.14890594 0.13618771 0.11794594]\n"
          ]
        }
      ]
    },
    {
      "cell_type": "code",
      "source": [
        "X_train_pca1,X_test_pca1,y_train_pca1,y_test_pca1=train_test_split(X_pca1,y,test_size=0.2,random_state=8)\n",
        "logistic2=LogisticRegression()\n",
        "logistic2.fit(X_train_pca1,y_train_pca1)\n",
        "print(logistic2.score(X_test_pca1,y_test_pca1))"
      ],
      "metadata": {
        "colab": {
          "base_uri": "https://localhost:8080/"
        },
        "id": "jOPqt56PvKu1",
        "outputId": "1d3222e6-7755-476e-e020-79947d928bd6"
      },
      "execution_count": null,
      "outputs": [
        {
          "output_type": "stream",
          "name": "stdout",
          "text": [
            "0.675\n"
          ]
        },
        {
          "output_type": "stream",
          "name": "stderr",
          "text": [
            "/usr/local/lib/python3.7/dist-packages/sklearn/linear_model/_logistic.py:818: ConvergenceWarning: lbfgs failed to converge (status=1):\n",
            "STOP: TOTAL NO. of ITERATIONS REACHED LIMIT.\n",
            "\n",
            "Increase the number of iterations (max_iter) or scale the data as shown in:\n",
            "    https://scikit-learn.org/stable/modules/preprocessing.html\n",
            "Please also refer to the documentation for alternative solver options:\n",
            "    https://scikit-learn.org/stable/modules/linear_model.html#logistic-regression\n",
            "  extra_warning_msg=_LOGISTIC_SOLVER_CONVERGENCE_MSG,\n"
          ]
        }
      ]
    },
    {
      "cell_type": "markdown",
      "source": [
        "**APPLY** (a) LogisticRegression\n",
        "    (b) SVM\n",
        "    (c) KNN\n",
        "    (d) DecisionTree\n",
        "    (e) RandomForest**"
      ],
      "metadata": {
        "id": "ZpNAesnxvw3p"
      }
    },
    {
      "cell_type": "markdown",
      "source": [
        "(a) LogisticRegression"
      ],
      "metadata": {
        "id": "9J3iSJ1p0eGQ"
      }
    },
    {
      "cell_type": "code",
      "source": [
        "X=df['data']\n",
        "y=df['target']\n",
        "print(X)\n",
        "print('-----------------------------')\n",
        "print(y)"
      ],
      "metadata": {
        "colab": {
          "base_uri": "https://localhost:8080/"
        },
        "id": "n1C9LLGI0m4h",
        "outputId": "360444d5-0f6c-4aaf-cb9e-811ab5e22d94"
      },
      "execution_count": null,
      "outputs": [
        {
          "output_type": "stream",
          "name": "stdout",
          "text": [
            "[[ 0.  0.  5. ...  0.  0.  0.]\n",
            " [ 0.  0.  0. ... 10.  0.  0.]\n",
            " [ 0.  0.  0. ... 16.  9.  0.]\n",
            " ...\n",
            " [ 0.  0.  1. ...  6.  0.  0.]\n",
            " [ 0.  0.  2. ... 12.  0.  0.]\n",
            " [ 0.  0. 10. ... 12.  1.  0.]]\n",
            "-----------------------------\n",
            "[0 1 2 ... 8 9 8]\n"
          ]
        }
      ]
    },
    {
      "cell_type": "code",
      "source": [
        "from sklearn.model_selection import train_test_split\n",
        "X_train,X_test,y_train,y_test=train_test_split(X,y,test_size=0.8,random_state=9)\n"
      ],
      "metadata": {
        "id": "x09AZbLm1qMq"
      },
      "execution_count": null,
      "outputs": []
    },
    {
      "cell_type": "code",
      "source": [
        "from sklearn.linear_model import LogisticRegression \n",
        "model1=LogisticRegression()\n",
        "model1.fit(X,y)\n",
        "a=model1.predict(X_test)\n",
        "print(a)"
      ],
      "metadata": {
        "colab": {
          "base_uri": "https://localhost:8080/"
        },
        "id": "JMK4J2P50czi",
        "outputId": "17371be0-0a9e-4a91-d112-50075f3b4f50"
      },
      "execution_count": null,
      "outputs": [
        {
          "output_type": "stream",
          "name": "stdout",
          "text": [
            "[1 1 7 ... 8 0 5]\n"
          ]
        },
        {
          "output_type": "stream",
          "name": "stderr",
          "text": [
            "/usr/local/lib/python3.7/dist-packages/sklearn/linear_model/_logistic.py:818: ConvergenceWarning: lbfgs failed to converge (status=1):\n",
            "STOP: TOTAL NO. of ITERATIONS REACHED LIMIT.\n",
            "\n",
            "Increase the number of iterations (max_iter) or scale the data as shown in:\n",
            "    https://scikit-learn.org/stable/modules/preprocessing.html\n",
            "Please also refer to the documentation for alternative solver options:\n",
            "    https://scikit-learn.org/stable/modules/linear_model.html#logistic-regression\n",
            "  extra_warning_msg=_LOGISTIC_SOLVER_CONVERGENCE_MSG,\n"
          ]
        }
      ]
    },
    {
      "cell_type": "markdown",
      "source": [
        "(b) SVM"
      ],
      "metadata": {
        "id": "jHv120-G1-Yn"
      }
    },
    {
      "cell_type": "code",
      "source": [
        "from sklearn.svm import SVC\n",
        "model2=SVC(kernel='poly')\n",
        "model2.fit(X_train,y_train)\n"
      ],
      "metadata": {
        "colab": {
          "base_uri": "https://localhost:8080/"
        },
        "id": "uK3a5yV42DPs",
        "outputId": "109f580a-4ffe-4384-882f-77127c0f6241"
      },
      "execution_count": null,
      "outputs": [
        {
          "output_type": "execute_result",
          "data": {
            "text/plain": [
              "SVC(kernel='poly')"
            ]
          },
          "metadata": {},
          "execution_count": 33
        }
      ]
    },
    {
      "cell_type": "code",
      "source": [
        "b=model2.predict(X_test)\n",
        "print(b)"
      ],
      "metadata": {
        "colab": {
          "base_uri": "https://localhost:8080/"
        },
        "id": "L_JMXZmp2P5j",
        "outputId": "53d140be-1c7a-4d9a-8667-8df150474245"
      },
      "execution_count": null,
      "outputs": [
        {
          "output_type": "stream",
          "name": "stdout",
          "text": [
            "[1 1 7 ... 8 0 5]\n"
          ]
        }
      ]
    },
    {
      "cell_type": "markdown",
      "source": [
        "c) KNN"
      ],
      "metadata": {
        "id": "4g4fa6h7zaBT"
      }
    },
    {
      "cell_type": "code",
      "source": [
        "from sklearn.neighbors import KNeighborsClassifier\n",
        "model3=KNeighborsClassifier(n_neighbors=3)\n",
        "model3.fit(X_train,y_train)"
      ],
      "metadata": {
        "colab": {
          "base_uri": "https://localhost:8080/"
        },
        "id": "lD0M12fsz2cx",
        "outputId": "e62c692d-a05b-4fb2-b9aa-475d10c4c0d0"
      },
      "execution_count": null,
      "outputs": [
        {
          "output_type": "execute_result",
          "data": {
            "text/plain": [
              "KNeighborsClassifier(n_neighbors=3)"
            ]
          },
          "metadata": {},
          "execution_count": 35
        }
      ]
    },
    {
      "cell_type": "code",
      "source": [
        "c=model3.predict(X_test)\n",
        "print(c)"
      ],
      "metadata": {
        "colab": {
          "base_uri": "https://localhost:8080/"
        },
        "id": "omlgpaLRz7AM",
        "outputId": "993ba211-3abc-4db6-a11e-ddf80b8bf589"
      },
      "execution_count": null,
      "outputs": [
        {
          "output_type": "stream",
          "name": "stdout",
          "text": [
            "[1 1 7 ... 8 0 5]\n"
          ]
        }
      ]
    },
    {
      "cell_type": "markdown",
      "source": [
        "(d) DecisionTree"
      ],
      "metadata": {
        "id": "Y9A8Qd5W2wqS"
      }
    },
    {
      "cell_type": "code",
      "source": [
        "from sklearn.tree import DecisionTreeClassifier\n",
        "model4=DecisionTreeClassifier()\n",
        "model4.fit(X_train,y_train)\n"
      ],
      "metadata": {
        "colab": {
          "base_uri": "https://localhost:8080/"
        },
        "id": "LPAHwnl-26Pg",
        "outputId": "f87ccf75-4afd-4574-e08c-f7fa5529f67d"
      },
      "execution_count": null,
      "outputs": [
        {
          "output_type": "execute_result",
          "data": {
            "text/plain": [
              "DecisionTreeClassifier()"
            ]
          },
          "metadata": {},
          "execution_count": 37
        }
      ]
    },
    {
      "cell_type": "code",
      "source": [
        "d=model4.predict(X_test)\n",
        "print(d)"
      ],
      "metadata": {
        "colab": {
          "base_uri": "https://localhost:8080/"
        },
        "id": "E8PS9bJm3foS",
        "outputId": "e8fe7068-5781-4eaa-fb0a-33c7a358b93d"
      },
      "execution_count": null,
      "outputs": [
        {
          "output_type": "stream",
          "name": "stdout",
          "text": [
            "[2 1 7 ... 8 0 5]\n"
          ]
        }
      ]
    },
    {
      "cell_type": "markdown",
      "source": [
        "(e) RandomForest"
      ],
      "metadata": {
        "id": "GZasBo263l9I"
      }
    },
    {
      "cell_type": "code",
      "source": [
        "from sklearn.ensemble import RandomForestClassifier \n",
        "model5=RandomForestClassifier()  \n",
        "model5.fit(X_train,y_train)\n",
        "e=model5.predict(X_test)\n",
        "print(e)\n"
      ],
      "metadata": {
        "colab": {
          "base_uri": "https://localhost:8080/"
        },
        "id": "DtDEczmW3jfC",
        "outputId": "b273cbbf-9fb8-4148-807c-fb83822b0fe4"
      },
      "execution_count": null,
      "outputs": [
        {
          "output_type": "stream",
          "name": "stdout",
          "text": [
            "[1 1 7 ... 8 0 5]\n"
          ]
        }
      ]
    },
    {
      "cell_type": "markdown",
      "source": [
        "Find accuracy of all above algorithm and finds which provides best accuracy"
      ],
      "metadata": {
        "id": "8fo_RXVn4MMI"
      }
    },
    {
      "cell_type": "code",
      "source": [
        "print(\"Logistic regression accuracy\",model1.score(X_test,y_test))\n",
        "print(\"SVM Accuracy\",model2.score(X_test,y_test))\n",
        "print(\"KNN Accuracy\",model3.score(X_test,y_test))\n",
        "print(\"DecisionTree Accuracy\",model4.score(X_test,y_test))\n",
        "print(\"RandomTree Accuracy\",model5.score(X_test,y_test))"
      ],
      "metadata": {
        "colab": {
          "base_uri": "https://localhost:8080/"
        },
        "id": "q5jc3ctg33Bj",
        "outputId": "b87ce127-6752-46d7-baba-1d1966788a51"
      },
      "execution_count": null,
      "outputs": [
        {
          "output_type": "stream",
          "name": "stdout",
          "text": [
            "Logistic regression accuracy 1.0\n",
            "SVM Accuracy 0.9791376912378303\n",
            "KNN Accuracy 0.9666203059805285\n",
            "DecisionTree Accuracy 0.7273991655076495\n",
            "RandomTree Accuracy 0.9541029207232267\n"
          ]
        }
      ]
    },
    {
      "cell_type": "markdown",
      "source": [
        "LOGISTIC REGRESSION HAS THE HIGHEST ACCURACY"
      ],
      "metadata": {
        "id": "9bbVOwNs5XPX"
      }
    },
    {
      "cell_type": "markdown",
      "source": [
        "Find confusion matrix of all above algorithms and show it by heatmap of seaborn library. \n"
      ],
      "metadata": {
        "id": "V9Ccrf9650nY"
      }
    },
    {
      "cell_type": "markdown",
      "source": [
        "(a) LogisticRegression"
      ],
      "metadata": {
        "id": "5UE3l0Z27Jyn"
      }
    },
    {
      "cell_type": "code",
      "source": [
        "from sklearn.metrics import confusion_matrix\n",
        "cm1=confusion_matrix(y_test,a)\n",
        "print(cm1)"
      ],
      "metadata": {
        "colab": {
          "base_uri": "https://localhost:8080/"
        },
        "id": "_1J24x9l5kib",
        "outputId": "2849559c-4a9c-4ff9-c94d-0de72663aeb9"
      },
      "execution_count": null,
      "outputs": [
        {
          "output_type": "stream",
          "name": "stdout",
          "text": [
            "[[143   0   0   0   0   0   0   0   0   0]\n",
            " [  0 139   0   0   0   0   0   0   0   0]\n",
            " [  0   0 127   0   0   0   0   0   0   0]\n",
            " [  0   0   0 148   0   0   0   0   0   0]\n",
            " [  0   0   0   0 143   0   0   0   0   0]\n",
            " [  0   0   0   0   0 150   0   0   0   0]\n",
            " [  0   0   0   0   0   0 148   0   0   0]\n",
            " [  0   0   0   0   0   0   0 146   0   0]\n",
            " [  0   0   0   0   0   0   0   0 141   0]\n",
            " [  0   0   0   0   0   0   0   0   0 153]]\n"
          ]
        }
      ]
    },
    {
      "cell_type": "code",
      "source": [
        "import matplotlib.pyplot as plt\n",
        "plt.figure(figsize=(10,7))\n",
        "import seaborn as sns\n",
        "sns.heatmap(cm1,annot=True)\n",
        "plt.xlabel('Predicted')\n",
        "plt.ylabel('Truth')\n",
        "plt.show()\n"
      ],
      "metadata": {
        "colab": {
          "base_uri": "https://localhost:8080/",
          "height": 442
        },
        "id": "Ik-UDqQ87CMM",
        "outputId": "6d0f224f-9447-45ed-9fd2-ff6c5cbf8593"
      },
      "execution_count": null,
      "outputs": [
        {
          "output_type": "display_data",
          "data": {
            "text/plain": [
              "<Figure size 720x504 with 2 Axes>"
            ],
            "image/png": "[encoded data removed]"
          },
          "metadata": {
            "needs_background": "light"
          }
        }
      ]
    },
    {
      "cell_type": "markdown",
      "source": [
        "(b) SVM"
      ],
      "metadata": {
        "id": "8bfwtw_U7USZ"
      }
    },
    {
      "cell_type": "code",
      "source": [
        "\n",
        "cm2=confusion_matrix(y_test,b)\n",
        "print(cm2)\n"
      ],
      "metadata": {
        "colab": {
          "base_uri": "https://localhost:8080/"
        },
        "id": "nFAHqUtf7YkA",
        "outputId": "3e083fca-2037-4a43-a083-e103a4b0cae4"
      },
      "execution_count": null,
      "outputs": [
        {
          "output_type": "stream",
          "name": "stdout",
          "text": [
            "[[141   0   0   0   1   0   1   0   0   0]\n",
            " [  0 138   0   0   0   0   0   0   1   0]\n",
            " [  0   1 126   0   0   0   0   0   0   0]\n",
            " [  0   0   1 144   0   0   0   2   1   0]\n",
            " [  0   0   0   0 143   0   0   0   0   0]\n",
            " [  0   0   0   0   0 148   0   0   0   2]\n",
            " [  0   0   0   0   0   0 148   0   0   0]\n",
            " [  0   0   0   0   0   0   0 144   1   1]\n",
            " [  0   1   1   0   1   2   0   1 135   0]\n",
            " [  0   0   0   4   0   1   0   5   2 141]]\n"
          ]
        }
      ]
    },
    {
      "cell_type": "code",
      "source": [
        "sns.heatmap(cm2,annot=True)\n",
        "plt.xlabel('Predicted')\n",
        "plt.ylabel('Truth')\n",
        "plt.show()\n"
      ],
      "metadata": {
        "colab": {
          "base_uri": "https://localhost:8080/",
          "height": 279
        },
        "id": "x3se0Brz7pv3",
        "outputId": "0da8d703-ca7c-4b6a-9ce9-8fd0ef425ea4"
      },
      "execution_count": null,
      "outputs": [
        {
          "output_type": "display_data",
          "data": {
            "text/plain": [
              "<Figure size 432x288 with 2 Axes>"
            ],
            "image/png": "[encoded data removed]"
          },
          "metadata": {
            "needs_background": "light"
          }
        }
      ]
    },
    {
      "cell_type": "markdown",
      "source": [
        "(c)KNN"
      ],
      "metadata": {
        "id": "IR2eG7ET7up7"
      }
    },
    {
      "cell_type": "code",
      "source": [
        "cm3=confusion_matrix(y_test,c)\n",
        "print(cm3)\n"
      ],
      "metadata": {
        "colab": {
          "base_uri": "https://localhost:8080/"
        },
        "id": "v_rfLmxD7zL0",
        "outputId": "94242605-b000-4684-888c-0b2dbb7a8011"
      },
      "execution_count": null,
      "outputs": [
        {
          "output_type": "stream",
          "name": "stdout",
          "text": [
            "[[142   0   0   0   1   0   0   0   0   0]\n",
            " [  0 138   0   0   1   0   0   0   0   0]\n",
            " [  1   1 124   0   0   0   0   1   0   0]\n",
            " [  0   0   0 143   0   1   0   1   1   2]\n",
            " [  0   0   0   0 142   0   0   0   1   0]\n",
            " [  0   0   0   2   0 143   1   0   0   4]\n",
            " [  0   1   0   0   0   0 147   0   0   0]\n",
            " [  0   0   1   0   0   0   0 145   0   0]\n",
            " [  0   8   0   1   0   1   0   1 129   1]\n",
            " [  2   2   0   2   1   4   0   2   3 137]]\n"
          ]
        }
      ]
    },
    {
      "cell_type": "code",
      "source": [
        "sns.heatmap(cm3,annot=True)\n",
        "plt.xlabel('Predicted')\n",
        "plt.ylabel('Truth')\n",
        "plt.show()\n"
      ],
      "metadata": {
        "colab": {
          "base_uri": "https://localhost:8080/",
          "height": 279
        },
        "id": "W8kv4DO37666",
        "outputId": "1ef94451-e974-4417-d3fe-b6f24020ae62"
      },
      "execution_count": null,
      "outputs": [
        {
          "output_type": "display_data",
          "data": {
            "text/plain": [
              "<Figure size 432x288 with 2 Axes>"
            ],
            "image/png": "[encoded data removed]"
          },
          "metadata": {
            "needs_background": "light"
          }
        }
      ]
    },
    {
      "cell_type": "markdown",
      "source": [
        "(d) DecisionTree"
      ],
      "metadata": {
        "id": "hMzemscx8abn"
      }
    },
    {
      "cell_type": "code",
      "source": [
        "cm4=confusion_matrix(y_test,d)\n",
        "print(cm4)"
      ],
      "metadata": {
        "colab": {
          "base_uri": "https://localhost:8080/"
        },
        "id": "2Kaedx1t8iSK",
        "outputId": "80162f82-60c9-40b6-a3fb-38e6676a4868"
      },
      "execution_count": null,
      "outputs": [
        {
          "output_type": "stream",
          "name": "stdout",
          "text": [
            "[[121   1   0   0   7   1   0   0   3  10]\n",
            " [  0  78   9   0   3   0   4   7  30   8]\n",
            " [  1   8 107   1   0   0   1   0   6   3]\n",
            " [  1   3  36  88   0   1   0   3  11   5]\n",
            " [  2   7   0   0 118   6   1   2   6   1]\n",
            " [  2   9   1   0   9 106   7   0  11   5]\n",
            " [  0  11   1   0   5   5 118   0   5   3]\n",
            " [  0   3   2   0   9   3   0 121   6   2]\n",
            " [  0  11   9   7   3   5   3  10  87   6]\n",
            " [  2  19   3   1   3   3   5   9   6 102]]\n"
          ]
        }
      ]
    },
    {
      "cell_type": "code",
      "source": [
        "sns.heatmap(cm4,annot=True)\n",
        "plt.xlabel('Predicted')\n",
        "plt.ylabel('Truth')\n",
        "plt.show()\n"
      ],
      "metadata": {
        "colab": {
          "base_uri": "https://localhost:8080/",
          "height": 282
        },
        "id": "VcdorKTP9aLr",
        "outputId": "89e4f302-6eed-4ee8-c4ea-15b2a0c4744c"
      },
      "execution_count": null,
      "outputs": [
        {
          "output_type": "display_data",
          "data": {
            "text/plain": [
              "<Figure size 432x288 with 2 Axes>"
            ],
            "image/png": "[encoded data removed]"
          },
          "metadata": {
            "needs_background": "light"
          }
        }
      ]
    },
    {
      "cell_type": "markdown",
      "source": [
        "(e) RandomForest"
      ],
      "metadata": {
        "id": "kiXYMHOg9jtd"
      }
    },
    {
      "cell_type": "code",
      "source": [
        "cm5=confusion_matrix(y_test,e)\n",
        "print(cm5)"
      ],
      "metadata": {
        "colab": {
          "base_uri": "https://localhost:8080/"
        },
        "id": "HX-p24SZ9vpA",
        "outputId": "232c67f9-b9be-4441-d018-ca45f9ac469b"
      },
      "execution_count": null,
      "outputs": [
        {
          "output_type": "stream",
          "name": "stdout",
          "text": [
            "[[142   0   0   0   1   0   0   0   0   0]\n",
            " [  0 135   0   0   0   0   0   0   1   3]\n",
            " [  1   0 125   0   0   0   0   0   1   0]\n",
            " [  0   0   0 137   0   1   0   3   4   3]\n",
            " [  0   0   0   0 141   0   0   2   0   0]\n",
            " [  0   1   0   1   1 142   0   0   1   4]\n",
            " [  1   1   0   0   2   0 144   0   0   0]\n",
            " [  0   0   0   0   3   1   0 140   2   0]\n",
            " [  0   6   0   1   1   2   0   1 130   0]\n",
            " [  0   2   0   5   1   5   0   8   2 130]]\n"
          ]
        }
      ]
    },
    {
      "cell_type": "code",
      "source": [
        "sns.heatmap(cm5,annot=True)\n",
        "plt.xlabel('Predicted')\n",
        "plt.ylabel('Truth')\n",
        "plt.show()\n"
      ],
      "metadata": {
        "colab": {
          "base_uri": "https://localhost:8080/",
          "height": 279
        },
        "id": "BibYJ4lI92ha",
        "outputId": "6b2740bf-0f93-45dc-aa9a-430339320058"
      },
      "execution_count": null,
      "outputs": [
        {
          "output_type": "display_data",
          "data": {
            "text/plain": [
              "<Figure size 432x288 with 2 Axes>"
            ],
            "image/png": "[encoded data removed]"
          },
          "metadata": {
            "needs_background": "light"
          }
        }
      ]
    }
  ]
}