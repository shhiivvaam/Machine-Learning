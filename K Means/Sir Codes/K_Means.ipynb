{
  "cells": [
    {
      "cell_type": "code",
      "execution_count": null,
      "metadata": {
        "id": "SQGDwi5DceWg"
      },
      "outputs": [],
      "source": [
        "from sklearn.cluster import KMeans\n",
        "import pandas as pd\n",
        "df=pd.read_csv('income.csv')\n",
        "df"
      ]
    },
    {
      "cell_type": "code",
      "execution_count": null,
      "metadata": {
        "colab": {
          "base_uri": "https://localhost:8080/",
          "height": 279
        },
        "id": "G4YEQnGwdWoA",
        "outputId": "24eb5bb2-65cd-4887-d216-836d727141f2"
      },
      "outputs": [
        {
          "data": {
            "image/png": "[encoded data removed]",
            "text/plain": [
              "<Figure size 432x288 with 1 Axes>"
            ]
          },
          "metadata": {
            "needs_background": "light"
          },
          "output_type": "display_data"
        }
      ],
      "source": [
        "import matplotlib.pyplot as plt\n",
        "plt.scatter(df['age'],df['income'])\n",
        "plt.xlabel('age')\n",
        "plt.ylabel('income')\n",
        "plt.show()"
      ]
    },
    {
      "cell_type": "code",
      "execution_count": null,
      "metadata": {
        "colab": {
          "base_uri": "https://localhost:8080/"
        },
        "id": "1DND9tcufiRc",
        "outputId": "f833591a-6148-4374-b187-23ca598e5e09"
      },
      "outputs": [
        {
          "name": "stdout",
          "output_type": "stream",
          "text": [
            "[0 0 2 2 1 1 1 1 1 1 1 2 2 2 2 2 2 2 2 0 0 2]\n"
          ]
        }
      ],
      "source": [
        "model=KMeans(n_clusters=3)\n",
        "y_pred=model.fit_predict(df[['age','income']])\n",
        "print(y_pred)\n"
      ]
    },
    {
      "cell_type": "code",
      "execution_count": null,
      "metadata": {
        "id": "XDIAaIzXgL81"
      },
      "outputs": [],
      "source": [
        "df['cluster']=y_pred\n",
        "df"
      ]
    },
    {
      "cell_type": "code",
      "execution_count": null,
      "metadata": {
        "colab": {
          "base_uri": "https://localhost:8080/"
        },
        "id": "cE7DUv77gY_N",
        "outputId": "f640bb1b-9339-4661-87f8-ef4d5e32afe6"
      },
      "outputs": [
        {
          "name": "stdout",
          "output_type": "stream",
          "text": [
            "[[3.40000000e+01 8.05000000e+04]\n",
            " [3.82857143e+01 1.50000000e+05]\n",
            " [3.29090909e+01 5.61363636e+04]]\n"
          ]
        }
      ],
      "source": [
        "print(model.cluster_centers_)"
      ]
    },
    {
      "cell_type": "code",
      "execution_count": null,
      "metadata": {
        "id": "bpvVeRbjgzCu"
      },
      "outputs": [],
      "source": [
        "df1=df[df['cluster']==0]\n",
        "df2=df[df['cluster']==1]\n",
        "df3=df[df['cluster']==2]"
      ]
    },
    {
      "cell_type": "code",
      "execution_count": null,
      "metadata": {
        "colab": {
          "base_uri": "https://localhost:8080/",
          "height": 296
        },
        "id": "balCHHsShjhH",
        "outputId": "e0437737-4f28-481f-a6d9-b2e3d3b54b77"
      },
      "outputs": [
        {
          "name": "stderr",
          "output_type": "stream",
          "text": [
            "No handles with labels found to put in legend.\n"
          ]
        },
        {
          "data": {
            "image/png": "[encoded data removed]",
            "text/plain": [
              "<Figure size 432x288 with 1 Axes>"
            ]
          },
          "metadata": {
            "needs_background": "light"
          },
          "output_type": "display_data"
        }
      ],
      "source": [
        "plt.scatter(df1['age'],df1['income'],color='red')\n",
        "plt.scatter(df2['age'],df2['income'],color='green')\n",
        "plt.scatter(df3['age'],df3['income'],color='blue')\n",
        "plt.xlabel('age')\n",
        "plt.ylabel('income')\n",
        "plt.legend()\n",
        "plt.show()"
      ]
    },
    {
      "cell_type": "code",
      "execution_count": null,
      "metadata": {
        "id": "4ofMz5quilCH"
      },
      "outputs": [],
      "source": [
        "from sklearn.preprocessing import MinMaxScaler\n",
        "dfnew=df\n",
        "scaler=MinMaxScaler()\n",
        "scaler.fit(dfnew[['income']])\n",
        "dfnew['income']=scaler.transform(dfnew[['income']])\n",
        "\n",
        "scaler.fit(dfnew[['age']])\n",
        "dfnew['age']=scaler.transform(dfnew[['age']])\n",
        "dfnew"
      ]
    },
    {
      "cell_type": "code",
      "execution_count": null,
      "metadata": {
        "id": "bgDmOrCzjVfb"
      },
      "outputs": [],
      "source": []
    },
    {
      "cell_type": "code",
      "execution_count": null,
      "metadata": {
        "colab": {
          "base_uri": "https://localhost:8080/"
        },
        "id": "dyHitQHnnGSr",
        "outputId": "4a1dac3b-920c-4bec-85ba-43265de46039"
      },
      "outputs": [
        {
          "name": "stdout",
          "output_type": "stream",
          "text": [
            "[0 0 0 0 1 1 1 1 1 1 1 0 0 0 0 0 2 2 2 2 2 2]\n"
          ]
        }
      ],
      "source": [
        "model1=KMeans(n_clusters=3)\n",
        "y_pred1=model1.fit_predict(dfnew[['age','income']])\n",
        "print(y_pred1)\n"
      ]
    },
    {
      "cell_type": "code",
      "execution_count": null,
      "metadata": {
        "colab": {
          "base_uri": "https://localhost:8080/"
        },
        "id": "mnJHGPUdndxC",
        "outputId": "faef4f7d-6ab8-4f54-9018-da532a7864ab"
      },
      "outputs": [
        {
          "name": "stdout",
          "output_type": "stream",
          "text": [
            "[[0.1372549  0.11633428]\n",
            " [0.72268908 0.8974359 ]\n",
            " [0.85294118 0.2022792 ]]\n"
          ]
        }
      ],
      "source": [
        "dfnew['cluster']=y_pred1\n",
        "print(model1.cluster_centers_)"
      ]
    },
    {
      "cell_type": "code",
      "execution_count": null,
      "metadata": {
        "colab": {
          "base_uri": "https://localhost:8080/",
          "height": 296
        },
        "id": "bNkhyOJQoOzy",
        "outputId": "f64ae055-bafc-4600-eea3-2e93dd6dafdc"
      },
      "outputs": [
        {
          "name": "stderr",
          "output_type": "stream",
          "text": [
            "WARNING:matplotlib.legend:No handles with labels found to put in legend.\n"
          ]
        },
        {
          "data": {
            "image/png": "[encoded data removed]",
            "text/plain": [
              "<Figure size 432x288 with 1 Axes>"
            ]
          },
          "metadata": {
            "needs_background": "light"
          },
          "output_type": "display_data"
        }
      ],
      "source": [
        "df11=dfnew[dfnew['cluster']==0]\n",
        "df22=dfnew[dfnew['cluster']==1]\n",
        "df33=dfnew[dfnew['cluster']==2]\n",
        "\n",
        "plt.scatter(df11['age'],df11['income'],color='red')\n",
        "plt.scatter(df22['age'],df22['income'],color='green')\n",
        "plt.scatter(df33['age'],df33['income'],color='blue')\n",
        "plt.scatter(model1.cluster_centers_[:,0],model1.cluster_centers_[:,1],marker='*',color='magenta')\n",
        "plt.xlabel('age')\n",
        "plt.ylabel('income')\n",
        "plt.legend()\n",
        "plt.show()"
      ]
    },
    {
      "cell_type": "markdown",
      "metadata": {
        "id": "haxwvaGhmp10"
      },
      "source": [
        "# ELBOW **METHOD**"
      ]
    },
    {
      "cell_type": "code",
      "execution_count": null,
      "metadata": {
        "id": "yZEdhV9ypRpq"
      },
      "outputs": [],
      "source": [
        "sse=[]\n",
        "for i in range(1,11):\n",
        "  model2=KMeans(n_clusters=i)\n",
        "  model2.fit(df[['age','income']])\n",
        "  sse.append(model2.inertia_)"
      ]
    },
    {
      "cell_type": "code",
      "execution_count": null,
      "metadata": {
        "colab": {
          "base_uri": "https://localhost:8080/"
        },
        "id": "AKYQUZxsqsa1",
        "outputId": "9eede6ce-d192-4f18-b015-e2ff091c7055"
      },
      "outputs": [
        {
          "data": {
            "text/plain": [
              "[5.434011511988178,\n",
              " 2.091136388699078,\n",
              " 0.4750783498553096,\n",
              " 0.3491047094419566,\n",
              " 0.2621792762345213,\n",
              " 0.21066678488010523,\n",
              " 0.18444549281986072,\n",
              " 0.13781880133764024,\n",
              " 0.10740235405674733,\n",
              " 0.08510915216361345]"
            ]
          },
          "execution_count": 17,
          "metadata": {},
          "output_type": "execute_result"
        }
      ],
      "source": [
        "sse"
      ]
    },
    {
      "cell_type": "code",
      "execution_count": null,
      "metadata": {
        "colab": {
          "base_uri": "https://localhost:8080/",
          "height": 279
        },
        "id": "73XatwtHq_lY",
        "outputId": "33b92366-e0a4-417b-b9f8-ffdfee5a9285"
      },
      "outputs": [
        {
          "data": {
            "image/png": "[encoded data removed]",
            "text/plain": [
              "<Figure size 432x288 with 1 Axes>"
            ]
          },
          "metadata": {
            "needs_background": "light"
          },
          "output_type": "display_data"
        }
      ],
      "source": [
        "plt.xlabel('K')\n",
        "plt.ylabel('Sum of squared error')\n",
        "plt.plot(range(1,11),sse)\n",
        "plt.show()"
      ]
    }
  ],
  "metadata": {
    "colab": {
      "collapsed_sections": [],
      "name": "K Means.ipynb",
      "provenance": []
    },
    "kernelspec": {
      "display_name": "Python 3.11.0 64-bit",
      "language": "python",
      "name": "python3"
    },
    "language_info": {
      "name": "python",
      "version": "3.11.0"
    },
    "vscode": {
      "interpreter": {
        "hash": "788c765a53e3f6641277b505040e0e53f76869924974d58b7482d524bd3bb3c4"
      }
    }
  },
  "nbformat": 4,
  "nbformat_minor": 0
}
