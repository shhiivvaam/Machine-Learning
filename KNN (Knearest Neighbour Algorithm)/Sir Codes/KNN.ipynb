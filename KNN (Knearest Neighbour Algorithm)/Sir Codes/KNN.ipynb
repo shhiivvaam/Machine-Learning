{
  "nbformat": 4,
  "nbformat_minor": 0,
  "metadata": {
    "colab": {
      "name": "KNN.ipynb",
      "provenance": [],
      "collapsed_sections": []
    },
    "kernelspec": {
      "name": "python3",
      "display_name": "Python 3"
    },
    "language_info": {
      "name": "python"
    }
  },
  "cells": [
    {
      "cell_type": "markdown",
      "source": [
        "# **KNN on IRIS Dataset** using CSV file"
      ],
      "metadata": {
        "id": "HOZ8wAwp4BUz"
      }
    },
    {
      "cell_type": "code",
      "execution_count": null,
      "metadata": {
        "id": "l9-iZQpU1l6G"
      },
      "outputs": [],
      "source": [
        "import pandas as pd\n",
        "df=pd.read_csv('/content/IRIS.csv')\n",
        "print(df)"
      ]
    },
    {
      "cell_type": "code",
      "source": [
        "X=df.drop('species',axis='columns')\n",
        "y=df['species']\n",
        "print(X)\n",
        "print('------------------------------------------------')\n",
        "print(y)"
      ],
      "metadata": {
        "id": "MZEm8-c62CgZ"
      },
      "execution_count": null,
      "outputs": []
    },
    {
      "cell_type": "code",
      "source": [
        "from sklearn.model_selection import train_test_split\n",
        "X_train,X_test,y_train,y_test=train_test_split(X,y,test_size=0.2,random_state=9)"
      ],
      "metadata": {
        "id": "IY77W8K02Yj3"
      },
      "execution_count": 18,
      "outputs": []
    },
    {
      "cell_type": "code",
      "source": [
        "from sklearn.neighbors import KNeighborsClassifier\n",
        "model=KNeighborsClassifier(n_neighbors=3)\n",
        "model.fit(X_train,y_train)"
      ],
      "metadata": {
        "id": "8At5Ss6M2udT"
      },
      "execution_count": null,
      "outputs": []
    },
    {
      "cell_type": "code",
      "source": [
        "model.predict(X_test)"
      ],
      "metadata": {
        "id": "NMuHtlWa3vyf"
      },
      "execution_count": null,
      "outputs": []
    },
    {
      "cell_type": "code",
      "source": [
        "print(model.score(X_test,y_test))"
      ],
      "metadata": {
        "id": "rx6mAEes32GF"
      },
      "execution_count": null,
      "outputs": []
    },
    {
      "cell_type": "code",
      "source": [
        "df1=df[:50]\n",
        "df2=df[50:100]\n",
        "df3=df[100:]\n",
        "import matplotlib.pyplot as plt\n",
        "plt.xlabel('sepal length')\n",
        "plt.ylabel('sepal width')\n",
        "plt.scatter(df1['sepal_length'],df1['sepal_width'],color='red',marker='+')\n",
        "plt.scatter(df2['sepal_length'],df2['sepal_width'],color='cyan',marker='D')\n",
        "plt.scatter(df3['sepal_length'],df3['sepal_width'],color='blue',marker='<')\n",
        "plt.legend(['setosa','versicolor','virginica'])\n",
        "plt.show()\n"
      ],
      "metadata": {
        "id": "Ohc9poc0plUM"
      },
      "execution_count": null,
      "outputs": []
    },
    {
      "cell_type": "markdown",
      "source": [
        "# **KNN on IRIS Dataset** using sklearn dataset"
      ],
      "metadata": {
        "id": "j6ZmDVJDD8wJ"
      }
    },
    {
      "cell_type": "code",
      "source": [
        "import pandas as pd\n",
        "from sklearn.datasets import load_iris\n",
        "d=load_iris()\n",
        "df=pd.DataFrame(d['data'],columns=d['feature_names'])\n",
        "df['target']=d['target']\n",
        "print(df)"
      ],
      "metadata": {
        "id": "pRDWMVqdEWMH"
      },
      "execution_count": null,
      "outputs": []
    },
    {
      "cell_type": "code",
      "source": [
        "X=df.drop('target',axis='columns')\n",
        "y=df['target']\n",
        "from sklearn.model_selection import train_test_split\n",
        "X_train,X_test,y_train,y_test=train_test_split(X,y,test_size=0.2,random_state=9)\n"
      ],
      "metadata": {
        "id": "fZ35bD1FFJaj"
      },
      "execution_count": 24,
      "outputs": []
    },
    {
      "cell_type": "code",
      "source": [
        "from sklearn.neighbors import KNeighborsClassifier\n",
        "model=KNeighborsClassifier(n_neighbors=3)\n",
        "model.fit(X_train,y_train)\n",
        "model.predict(X_test)\n",
        "print(model.score(X_test,y_test))"
      ],
      "metadata": {
        "id": "ZeDgmepBF3Tp"
      },
      "execution_count": null,
      "outputs": []
    },
    {
      "cell_type": "markdown",
      "source": [
        "# **KNN on Digits Dataset(MNIST)** using CSV file\n",
        "\n",
        "\n"
      ],
      "metadata": {
        "id": "1XfX_kBQ4WaH"
      }
    },
    {
      "cell_type": "code",
      "source": [
        "df1=pd.read_csv('/content/mnist.csv',on_bad_lines='skip')\n",
        "df1.dropna(inplace=True)"
      ],
      "metadata": {
        "id": "C0Rx50pd4lXl"
      },
      "execution_count": 26,
      "outputs": []
    },
    {
      "cell_type": "code",
      "source": [
        "X=df1.drop('label',axis='columns')\n",
        "y=df1['label']"
      ],
      "metadata": {
        "id": "6k7SQQ427rLm"
      },
      "execution_count": 27,
      "outputs": []
    },
    {
      "cell_type": "code",
      "source": [
        "X_train,X_test,y_train,y_test=train_test_split(X,y,test_size=0.2,random_state=9)"
      ],
      "metadata": {
        "id": "uZtTZBqK74SY"
      },
      "execution_count": 28,
      "outputs": []
    },
    {
      "cell_type": "code",
      "source": [
        "model=KNeighborsClassifier(n_neighbors=3)"
      ],
      "metadata": {
        "id": "bcFoSiFi8HgD"
      },
      "execution_count": 29,
      "outputs": []
    },
    {
      "cell_type": "code",
      "source": [
        "model.fit(X_train,y_train)\n"
      ],
      "metadata": {
        "id": "wmwX3bfo8TNF"
      },
      "execution_count": null,
      "outputs": []
    },
    {
      "cell_type": "code",
      "source": [
        "model.predict(X_test)"
      ],
      "metadata": {
        "id": "f8fdxX6_-nAE"
      },
      "execution_count": null,
      "outputs": []
    },
    {
      "cell_type": "code",
      "source": [
        "print(model.score(X_test,y_test))"
      ],
      "metadata": {
        "id": "vJXLHIIZ-seF"
      },
      "execution_count": null,
      "outputs": []
    },
    {
      "cell_type": "markdown",
      "source": [
        "# **KNN on Digits Dataset**  using sklearn Dataset"
      ],
      "metadata": {
        "id": "nEcWBQPQGlcd"
      }
    },
    {
      "cell_type": "code",
      "source": [
        "from sklearn.datasets import load_digits\n",
        "d=load_digits()\n",
        "df2=pd.DataFrame(d['data'],columns=d['feature_names'])"
      ],
      "metadata": {
        "id": "YZbP1cF8G_4w"
      },
      "execution_count": 33,
      "outputs": []
    },
    {
      "cell_type": "code",
      "source": [
        "df2"
      ],
      "metadata": {
        "id": "KmtUal0gHZZd"
      },
      "execution_count": null,
      "outputs": []
    },
    {
      "cell_type": "code",
      "source": [
        "print(list(d.keys()))"
      ],
      "metadata": {
        "id": "3_zIwFfpHzrG"
      },
      "execution_count": null,
      "outputs": []
    },
    {
      "cell_type": "code",
      "source": [
        "df2['target']=d['target']\n",
        "X=df2.drop('target',axis='columns')\n",
        "y=df2['target']"
      ],
      "metadata": {
        "id": "lmYAhRWxIL0T"
      },
      "execution_count": 36,
      "outputs": []
    },
    {
      "cell_type": "code",
      "source": [
        "X_train,X_test,y_train,y_test=train_test_split(X,y,test_size=0.2,random_state=9)\n",
        "model=KNeighborsClassifier(n_neighbors=3)\n",
        "model.fit(X_train,y_train)\n"
      ],
      "metadata": {
        "id": "4Z2ooskiIZR3"
      },
      "execution_count": null,
      "outputs": []
    },
    {
      "cell_type": "code",
      "source": [
        "model.predict(X_test)"
      ],
      "metadata": {
        "id": "2e-UEounJRGZ"
      },
      "execution_count": null,
      "outputs": []
    },
    {
      "cell_type": "code",
      "source": [
        "print(model.score(X_test,y_test))"
      ],
      "metadata": {
        "id": "MdUyJbKEJVr9"
      },
      "execution_count": null,
      "outputs": []
    },
    {
      "cell_type": "markdown",
      "source": [
        "# **Extra**"
      ],
      "metadata": {
        "id": "50WhCu8-C7Z7"
      }
    },
    {
      "cell_type": "code",
      "source": [
        "#X=[[1,2,3,4,5,6,7,8,9,10]]\n",
        "X=[[1],[2],[3],[4],[5],[6],[7],[8],[9],[10]]\n",
        "y=[1,4,9,16,25,36,49,64,81,100]\n",
        "from sklearn.linear_model import LinearRegression\n",
        "model=LinearRegression()\n",
        "model.fit(X,y)"
      ],
      "metadata": {
        "id": "UPuWsb8KAVFn"
      },
      "execution_count": null,
      "outputs": []
    },
    {
      "cell_type": "code",
      "source": [
        "print(model.predict([[11]]))"
      ],
      "metadata": {
        "id": "1ppiGg7OBo6V"
      },
      "execution_count": null,
      "outputs": []
    },
    {
      "cell_type": "code",
      "source": [
        "print(model.score(X,y))"
      ],
      "metadata": {
        "id": "VkbSG1nqB4hI"
      },
      "execution_count": null,
      "outputs": []
    }
  ]
}